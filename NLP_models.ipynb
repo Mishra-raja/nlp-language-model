{
 "cells": [
  {
   "cell_type": "code",
   "execution_count": 4,
   "metadata": {},
   "outputs": [],
   "source": [
    "import pandas as pd\n",
    "import numpy as np\n",
    "import matplotlib.pyplot as plt\n",
    "import seaborn as sns\n",
    "import requests\n",
    "import time\n",
    "import xml.etree.ElementTree as ET\n",
    "import math\n",
    "import re\n",
    "import glob\n",
    "import random\n",
    "import string\n",
    "from IPython.display import clear_output\n",
    "from nltk.corpus import wordnet as wn\n",
    "from nltk.wsd import lesk\n",
    "%matplotlib inline"
   ]
  },
  {
   "cell_type": "code",
   "execution_count": 5,
   "metadata": {},
   "outputs": [
    {
     "data": {
      "text/html": [
       "<div>\n",
       "<style scoped>\n",
       "    .dataframe tbody tr th:only-of-type {\n",
       "        vertical-align: middle;\n",
       "    }\n",
       "\n",
       "    .dataframe tbody tr th {\n",
       "        vertical-align: top;\n",
       "    }\n",
       "\n",
       "    .dataframe thead th {\n",
       "        text-align: right;\n",
       "    }\n",
       "</style>\n",
       "<table border=\"1\" class=\"dataframe\">\n",
       "  <thead>\n",
       "    <tr style=\"text-align: right;\">\n",
       "      <th></th>\n",
       "      <th>Unnamed: 0</th>\n",
       "      <th>type</th>\n",
       "      <th>review</th>\n",
       "      <th>label</th>\n",
       "      <th>file</th>\n",
       "    </tr>\n",
       "  </thead>\n",
       "  <tbody>\n",
       "    <tr>\n",
       "      <th>0</th>\n",
       "      <td>0</td>\n",
       "      <td>test</td>\n",
       "      <td>Once again Mr. Costner has dragged out a movie...</td>\n",
       "      <td>neg</td>\n",
       "      <td>0_2.txt</td>\n",
       "    </tr>\n",
       "    <tr>\n",
       "      <th>1</th>\n",
       "      <td>1</td>\n",
       "      <td>test</td>\n",
       "      <td>This is an example of why the majority of acti...</td>\n",
       "      <td>neg</td>\n",
       "      <td>10000_4.txt</td>\n",
       "    </tr>\n",
       "    <tr>\n",
       "      <th>2</th>\n",
       "      <td>2</td>\n",
       "      <td>test</td>\n",
       "      <td>First of all I hate those moronic rappers, who...</td>\n",
       "      <td>neg</td>\n",
       "      <td>10001_1.txt</td>\n",
       "    </tr>\n",
       "    <tr>\n",
       "      <th>3</th>\n",
       "      <td>3</td>\n",
       "      <td>test</td>\n",
       "      <td>Not even the Beatles could write songs everyon...</td>\n",
       "      <td>neg</td>\n",
       "      <td>10002_3.txt</td>\n",
       "    </tr>\n",
       "    <tr>\n",
       "      <th>4</th>\n",
       "      <td>4</td>\n",
       "      <td>test</td>\n",
       "      <td>Brass pictures (movies is not a fitting word f...</td>\n",
       "      <td>neg</td>\n",
       "      <td>10003_3.txt</td>\n",
       "    </tr>\n",
       "    <tr>\n",
       "      <th>5</th>\n",
       "      <td>5</td>\n",
       "      <td>test</td>\n",
       "      <td>A funny thing happened to me while watching \"M...</td>\n",
       "      <td>neg</td>\n",
       "      <td>10004_2.txt</td>\n",
       "    </tr>\n",
       "    <tr>\n",
       "      <th>6</th>\n",
       "      <td>6</td>\n",
       "      <td>test</td>\n",
       "      <td>This German horror film has to be one of the w...</td>\n",
       "      <td>neg</td>\n",
       "      <td>10005_2.txt</td>\n",
       "    </tr>\n",
       "    <tr>\n",
       "      <th>7</th>\n",
       "      <td>7</td>\n",
       "      <td>test</td>\n",
       "      <td>Being a long-time fan of Japanese film, I expe...</td>\n",
       "      <td>neg</td>\n",
       "      <td>10006_2.txt</td>\n",
       "    </tr>\n",
       "    <tr>\n",
       "      <th>8</th>\n",
       "      <td>8</td>\n",
       "      <td>test</td>\n",
       "      <td>\"Tokyo Eyes\" tells of a 17 year old Japanese g...</td>\n",
       "      <td>neg</td>\n",
       "      <td>10007_4.txt</td>\n",
       "    </tr>\n",
       "    <tr>\n",
       "      <th>9</th>\n",
       "      <td>9</td>\n",
       "      <td>test</td>\n",
       "      <td>Wealthy horse ranchers in Buenos Aires have a ...</td>\n",
       "      <td>neg</td>\n",
       "      <td>10008_4.txt</td>\n",
       "    </tr>\n",
       "  </tbody>\n",
       "</table>\n",
       "</div>"
      ],
      "text/plain": [
       "   Unnamed: 0  type                                             review label  \\\n",
       "0           0  test  Once again Mr. Costner has dragged out a movie...   neg   \n",
       "1           1  test  This is an example of why the majority of acti...   neg   \n",
       "2           2  test  First of all I hate those moronic rappers, who...   neg   \n",
       "3           3  test  Not even the Beatles could write songs everyon...   neg   \n",
       "4           4  test  Brass pictures (movies is not a fitting word f...   neg   \n",
       "5           5  test  A funny thing happened to me while watching \"M...   neg   \n",
       "6           6  test  This German horror film has to be one of the w...   neg   \n",
       "7           7  test  Being a long-time fan of Japanese film, I expe...   neg   \n",
       "8           8  test  \"Tokyo Eyes\" tells of a 17 year old Japanese g...   neg   \n",
       "9           9  test  Wealthy horse ranchers in Buenos Aires have a ...   neg   \n",
       "\n",
       "          file  \n",
       "0      0_2.txt  \n",
       "1  10000_4.txt  \n",
       "2  10001_1.txt  \n",
       "3  10002_3.txt  \n",
       "4  10003_3.txt  \n",
       "5  10004_2.txt  \n",
       "6  10005_2.txt  \n",
       "7  10006_2.txt  \n",
       "8  10007_4.txt  \n",
       "9  10008_4.txt  "
      ]
     },
     "execution_count": 5,
     "metadata": {},
     "output_type": "execute_result"
    }
   ],
   "source": [
    "df = pd.read_csv(\"imdb_master.csv\",encoding=\"latin-1\")\n",
    "df.head(10)"
   ]
  },
  {
   "cell_type": "code",
   "execution_count": 6,
   "metadata": {},
   "outputs": [],
   "source": [
    "df = df[df['type']=='train'].reset_index(drop=True)"
   ]
  },
  {
   "cell_type": "code",
   "execution_count": 7,
   "metadata": {},
   "outputs": [
    {
     "data": {
      "text/plain": [
       "75000"
      ]
     },
     "execution_count": 7,
     "metadata": {},
     "output_type": "execute_result"
    }
   ],
   "source": [
    "len(df)"
   ]
  },
  {
   "cell_type": "code",
   "execution_count": 8,
   "metadata": {},
   "outputs": [
    {
     "data": {
      "text/html": [
       "<div>\n",
       "<style scoped>\n",
       "    .dataframe tbody tr th:only-of-type {\n",
       "        vertical-align: middle;\n",
       "    }\n",
       "\n",
       "    .dataframe tbody tr th {\n",
       "        vertical-align: top;\n",
       "    }\n",
       "\n",
       "    .dataframe thead th {\n",
       "        text-align: right;\n",
       "    }\n",
       "</style>\n",
       "<table border=\"1\" class=\"dataframe\">\n",
       "  <thead>\n",
       "    <tr style=\"text-align: right;\">\n",
       "      <th></th>\n",
       "      <th>Unnamed: 0</th>\n",
       "      <th>type</th>\n",
       "      <th>review</th>\n",
       "      <th>label</th>\n",
       "      <th>file</th>\n",
       "    </tr>\n",
       "  </thead>\n",
       "  <tbody>\n",
       "    <tr>\n",
       "      <th>0</th>\n",
       "      <td>25000</td>\n",
       "      <td>train</td>\n",
       "      <td>Story of a man who has unnatural feelings for ...</td>\n",
       "      <td>neg</td>\n",
       "      <td>0_3.txt</td>\n",
       "    </tr>\n",
       "    <tr>\n",
       "      <th>1</th>\n",
       "      <td>25001</td>\n",
       "      <td>train</td>\n",
       "      <td>Airport '77 starts as a brand new luxury 747 p...</td>\n",
       "      <td>neg</td>\n",
       "      <td>10000_4.txt</td>\n",
       "    </tr>\n",
       "    <tr>\n",
       "      <th>2</th>\n",
       "      <td>25002</td>\n",
       "      <td>train</td>\n",
       "      <td>This film lacked something I couldn't put my f...</td>\n",
       "      <td>neg</td>\n",
       "      <td>10001_4.txt</td>\n",
       "    </tr>\n",
       "    <tr>\n",
       "      <th>3</th>\n",
       "      <td>25003</td>\n",
       "      <td>train</td>\n",
       "      <td>Sorry everyone,,, I know this is supposed to b...</td>\n",
       "      <td>neg</td>\n",
       "      <td>10002_1.txt</td>\n",
       "    </tr>\n",
       "    <tr>\n",
       "      <th>4</th>\n",
       "      <td>25004</td>\n",
       "      <td>train</td>\n",
       "      <td>When I was little my parents took me along to ...</td>\n",
       "      <td>neg</td>\n",
       "      <td>10003_1.txt</td>\n",
       "    </tr>\n",
       "  </tbody>\n",
       "</table>\n",
       "</div>"
      ],
      "text/plain": [
       "   Unnamed: 0   type                                             review label  \\\n",
       "0       25000  train  Story of a man who has unnatural feelings for ...   neg   \n",
       "1       25001  train  Airport '77 starts as a brand new luxury 747 p...   neg   \n",
       "2       25002  train  This film lacked something I couldn't put my f...   neg   \n",
       "3       25003  train  Sorry everyone,,, I know this is supposed to b...   neg   \n",
       "4       25004  train  When I was little my parents took me along to ...   neg   \n",
       "\n",
       "          file  \n",
       "0      0_3.txt  \n",
       "1  10000_4.txt  \n",
       "2  10001_4.txt  \n",
       "3  10002_1.txt  \n",
       "4  10003_1.txt  "
      ]
     },
     "execution_count": 8,
     "metadata": {},
     "output_type": "execute_result"
    }
   ],
   "source": [
    "train_data = df[0:1000]\n",
    "train_data.head()"
   ]
  },
  {
   "cell_type": "code",
   "execution_count": 9,
   "metadata": {},
   "outputs": [
    {
     "data": {
      "text/html": [
       "<div>\n",
       "<style scoped>\n",
       "    .dataframe tbody tr th:only-of-type {\n",
       "        vertical-align: middle;\n",
       "    }\n",
       "\n",
       "    .dataframe tbody tr th {\n",
       "        vertical-align: top;\n",
       "    }\n",
       "\n",
       "    .dataframe thead th {\n",
       "        text-align: right;\n",
       "    }\n",
       "</style>\n",
       "<table border=\"1\" class=\"dataframe\">\n",
       "  <thead>\n",
       "    <tr style=\"text-align: right;\">\n",
       "      <th></th>\n",
       "      <th>id</th>\n",
       "      <th>dataset</th>\n",
       "      <th>text</th>\n",
       "      <th>pol</th>\n",
       "      <th>file</th>\n",
       "    </tr>\n",
       "  </thead>\n",
       "  <tbody>\n",
       "    <tr>\n",
       "      <th>0</th>\n",
       "      <td>25000</td>\n",
       "      <td>train</td>\n",
       "      <td>Story of a man who has unnatural feelings for ...</td>\n",
       "      <td>neg</td>\n",
       "      <td>0_3.txt</td>\n",
       "    </tr>\n",
       "    <tr>\n",
       "      <th>1</th>\n",
       "      <td>25001</td>\n",
       "      <td>train</td>\n",
       "      <td>Airport '77 starts as a brand new luxury 747 p...</td>\n",
       "      <td>neg</td>\n",
       "      <td>10000_4.txt</td>\n",
       "    </tr>\n",
       "    <tr>\n",
       "      <th>2</th>\n",
       "      <td>25002</td>\n",
       "      <td>train</td>\n",
       "      <td>This film lacked something I couldn't put my f...</td>\n",
       "      <td>neg</td>\n",
       "      <td>10001_4.txt</td>\n",
       "    </tr>\n",
       "    <tr>\n",
       "      <th>3</th>\n",
       "      <td>25003</td>\n",
       "      <td>train</td>\n",
       "      <td>Sorry everyone,,, I know this is supposed to b...</td>\n",
       "      <td>neg</td>\n",
       "      <td>10002_1.txt</td>\n",
       "    </tr>\n",
       "    <tr>\n",
       "      <th>4</th>\n",
       "      <td>25004</td>\n",
       "      <td>train</td>\n",
       "      <td>When I was little my parents took me along to ...</td>\n",
       "      <td>neg</td>\n",
       "      <td>10003_1.txt</td>\n",
       "    </tr>\n",
       "  </tbody>\n",
       "</table>\n",
       "</div>"
      ],
      "text/plain": [
       "      id dataset                                               text  pol  \\\n",
       "0  25000   train  Story of a man who has unnatural feelings for ...  neg   \n",
       "1  25001   train  Airport '77 starts as a brand new luxury 747 p...  neg   \n",
       "2  25002   train  This film lacked something I couldn't put my f...  neg   \n",
       "3  25003   train  Sorry everyone,,, I know this is supposed to b...  neg   \n",
       "4  25004   train  When I was little my parents took me along to ...  neg   \n",
       "\n",
       "          file  \n",
       "0      0_3.txt  \n",
       "1  10000_4.txt  \n",
       "2  10001_4.txt  \n",
       "3  10002_1.txt  \n",
       "4  10003_1.txt  "
      ]
     },
     "execution_count": 9,
     "metadata": {},
     "output_type": "execute_result"
    }
   ],
   "source": [
    "train_data.columns = ['id', 'dataset','text','pol','file']\n",
    "train_data.head()"
   ]
  },
  {
   "cell_type": "code",
   "execution_count": 10,
   "metadata": {},
   "outputs": [
    {
     "data": {
      "text/plain": [
       "['Story of a man who has unnatural feelings for a pig',\n",
       " ' Starts out with a opening scene that is a terrific example of absurd comedy',\n",
       " \" A formal orchestra audience is turned into an insane, violent mob by the crazy chantings of it's singers\",\n",
       " ' Unfortunately it stays absurd the WHOLE time with no general narrative eventually making it just too off putting',\n",
       " ' Even those from the era should be turned off',\n",
       " ' The cryptic dialogue would make Shakespeare seem easy to a third grader',\n",
       " \" On a technical level it's better than you might think with some good cinematography by future great Vilmos Zsigmond\",\n",
       " ' Future stars Sally Kirkland and Frederic Forrest can be seen briefly',\n",
       " '']"
      ]
     },
     "execution_count": 10,
     "metadata": {},
     "output_type": "execute_result"
    }
   ],
   "source": [
    "train_data['text'][0].split('.')"
   ]
  },
  {
   "cell_type": "code",
   "execution_count": 11,
   "metadata": {},
   "outputs": [
    {
     "data": {
      "text/plain": [
       "'Story of a man who has unnatural feelings for a pig'"
      ]
     },
     "execution_count": 11,
     "metadata": {},
     "output_type": "execute_result"
    }
   ],
   "source": [
    "train_data['text'][0].split('.')[0]\n"
   ]
  },
  {
   "cell_type": "code",
   "execution_count": 12,
   "metadata": {},
   "outputs": [
    {
     "data": {
      "text/plain": [
       "9"
      ]
     },
     "execution_count": 12,
     "metadata": {},
     "output_type": "execute_result"
    }
   ],
   "source": [
    "len(train_data['text'][0].split('.'))"
   ]
  },
  {
   "cell_type": "code",
   "execution_count": 13,
   "metadata": {},
   "outputs": [
    {
     "name": "stdout",
     "output_type": "stream",
     "text": [
      "Proportion of comments completed: 99.9 %\n",
      "Total time =  1.4475 minutes\n"
     ]
    }
   ],
   "source": [
    "train_data_sent = pd.DataFrame()\n",
    "start_time = time.time()\n",
    "for index in train_data.index:\n",
    "    data_row = train_data.iloc[index,:]\n",
    "    for sent_id in range(0,len(data_row['text'].split('.'))-1):\n",
    "        sentence = data_row['text'].split('.')[sent_id]\n",
    "        sentence_row = pd.DataFrame({\n",
    "            'id':data_row['id'],\n",
    "            'pol':data_row['pol'],\n",
    "            'sent_id':sent_id,\n",
    "            'sentence':sentence}, index = [index])\n",
    "        train_data_sent = train_data_sent.append(sentence_row)\n",
    "        clear_output(wait=True)\n",
    "        print('Proportion of comments completed:',np.round(index/len(train_data),4)*100,'%')\n",
    "        end_time = time.time()\n",
    "        print('Total time = ',np.round(end_time-start_time,2)/60,'minutes')\n",
    "        train_data_sent = train_data_sent.reset_index(drop=True)\n",
    "        "
   ]
  },
  {
   "cell_type": "code",
   "execution_count": 14,
   "metadata": {},
   "outputs": [
    {
     "data": {
      "text/html": [
       "<div>\n",
       "<style scoped>\n",
       "    .dataframe tbody tr th:only-of-type {\n",
       "        vertical-align: middle;\n",
       "    }\n",
       "\n",
       "    .dataframe tbody tr th {\n",
       "        vertical-align: top;\n",
       "    }\n",
       "\n",
       "    .dataframe thead th {\n",
       "        text-align: right;\n",
       "    }\n",
       "</style>\n",
       "<table border=\"1\" class=\"dataframe\">\n",
       "  <thead>\n",
       "    <tr style=\"text-align: right;\">\n",
       "      <th></th>\n",
       "      <th>id</th>\n",
       "      <th>pol</th>\n",
       "      <th>sent_id</th>\n",
       "      <th>sentence</th>\n",
       "      <th>sentence_clean</th>\n",
       "    </tr>\n",
       "  </thead>\n",
       "  <tbody>\n",
       "    <tr>\n",
       "      <th>0</th>\n",
       "      <td>25000</td>\n",
       "      <td>neg</td>\n",
       "      <td>0</td>\n",
       "      <td>Story of a man who has unnatural feelings for ...</td>\n",
       "      <td>&lt;sstory of a man who has unnatural feelings fo...</td>\n",
       "    </tr>\n",
       "    <tr>\n",
       "      <th>1</th>\n",
       "      <td>25000</td>\n",
       "      <td>neg</td>\n",
       "      <td>1</td>\n",
       "      <td>Starts out with a opening scene that is a ter...</td>\n",
       "      <td>&lt;s starts out with a opening scene that is a t...</td>\n",
       "    </tr>\n",
       "    <tr>\n",
       "      <th>2</th>\n",
       "      <td>25000</td>\n",
       "      <td>neg</td>\n",
       "      <td>2</td>\n",
       "      <td>A formal orchestra audience is turned into an...</td>\n",
       "      <td>&lt;s a formal orchestra audience is turned into ...</td>\n",
       "    </tr>\n",
       "    <tr>\n",
       "      <th>3</th>\n",
       "      <td>25000</td>\n",
       "      <td>neg</td>\n",
       "      <td>3</td>\n",
       "      <td>Unfortunately it stays absurd the WHOLE time ...</td>\n",
       "      <td>&lt;s unfortunately it stays absurd the whole tim...</td>\n",
       "    </tr>\n",
       "    <tr>\n",
       "      <th>4</th>\n",
       "      <td>25000</td>\n",
       "      <td>neg</td>\n",
       "      <td>4</td>\n",
       "      <td>Even those from the era should be turned off</td>\n",
       "      <td>&lt;s even those from the era should be turned of...</td>\n",
       "    </tr>\n",
       "  </tbody>\n",
       "</table>\n",
       "</div>"
      ],
      "text/plain": [
       "      id  pol  sent_id                                           sentence  \\\n",
       "0  25000  neg        0  Story of a man who has unnatural feelings for ...   \n",
       "1  25000  neg        1   Starts out with a opening scene that is a ter...   \n",
       "2  25000  neg        2   A formal orchestra audience is turned into an...   \n",
       "3  25000  neg        3   Unfortunately it stays absurd the WHOLE time ...   \n",
       "4  25000  neg        4       Even those from the era should be turned off   \n",
       "\n",
       "                                      sentence_clean  \n",
       "0  <sstory of a man who has unnatural feelings fo...  \n",
       "1  <s starts out with a opening scene that is a t...  \n",
       "2  <s a formal orchestra audience is turned into ...  \n",
       "3  <s unfortunately it stays absurd the whole tim...  \n",
       "4  <s even those from the era should be turned of...  "
      ]
     },
     "execution_count": 14,
     "metadata": {},
     "output_type": "execute_result"
    }
   ],
   "source": [
    "train_data_sent['sentence_clean']= train_data_sent['sentence'].str.replace('[{}]'.format(string.punctuation), '')\n",
    "train_data_sent['sentence_clean']=train_data_sent['sentence_clean'].str.lower()\n",
    "train_data_sent['sentence_clean']='<s' +train_data_sent['sentence_clean']\n",
    "train_data_sent['sentence_clean']=train_data_sent['sentence_clean'] + '/s>'\n",
    "train_data_sent.head()"
   ]
  },
  {
   "cell_type": "code",
   "execution_count": 15,
   "metadata": {},
   "outputs": [
    {
     "data": {
      "text/plain": [
       "'<sstory of a man who has unnatural feelings for a pig/s><s starts out with a opening scene that is a'"
      ]
     },
     "execution_count": 15,
     "metadata": {},
     "output_type": "execute_result"
    }
   ],
   "source": [
    "text = train_data_sent['sentence_clean']\n",
    "text_list = \"\".join(map(str ,text))\n",
    "text_list[0:100]"
   ]
  },
  {
   "cell_type": "code",
   "execution_count": 20,
   "metadata": {},
   "outputs": [],
   "source": [
    "word_list = pd.DataFrame({'words':text.str.split(' ', expand = True).stack().unique()})"
   ]
  },
  {
   "cell_type": "code",
   "execution_count": 21,
   "metadata": {},
   "outputs": [
    {
     "name": "stdout",
     "output_type": "stream",
     "text": [
      "Proportion of words completed: 100.0 %\n"
     ]
    }
   ],
   "source": [
    "word_count_table = pd.DataFrame()\n",
    "for n,word in enumerate(word_list['words']):\n",
    "    word_count = len(re.findall(' ' + word + ' ',text_list))\n",
    "    word_count_table = word_count_table.append(pd.DataFrame({'count':word_count}, index=[n]))\n",
    "    clear_output(wait=True)\n",
    "    print('Proportion of words completed:',np.round(n/len(word_list),4)*100,'%')\n",
    "    word_list['count'] = word_count_table['count']\n",
    "    word_list['count'] = np.where(word_list['words'] == '<s' , 0,np.where(word_list['words'] == '/s>',0,word_list['count']))\n",
    "    "
   ]
  },
  {
   "cell_type": "code",
   "execution_count": 22,
   "metadata": {},
   "outputs": [
    {
     "data": {
      "text/html": [
       "<div>\n",
       "<style scoped>\n",
       "    .dataframe tbody tr th:only-of-type {\n",
       "        vertical-align: middle;\n",
       "    }\n",
       "\n",
       "    .dataframe tbody tr th {\n",
       "        vertical-align: top;\n",
       "    }\n",
       "\n",
       "    .dataframe thead th {\n",
       "        text-align: right;\n",
       "    }\n",
       "</style>\n",
       "<table border=\"1\" class=\"dataframe\">\n",
       "  <thead>\n",
       "    <tr style=\"text-align: right;\">\n",
       "      <th></th>\n",
       "      <th>words</th>\n",
       "      <th>count</th>\n",
       "      <th>prob</th>\n",
       "    </tr>\n",
       "  </thead>\n",
       "  <tbody>\n",
       "    <tr>\n",
       "      <th>0</th>\n",
       "      <td>&lt;sstory</td>\n",
       "      <td>0</td>\n",
       "      <td>0.000000</td>\n",
       "    </tr>\n",
       "    <tr>\n",
       "      <th>1</th>\n",
       "      <td>of</td>\n",
       "      <td>5142</td>\n",
       "      <td>0.025349</td>\n",
       "    </tr>\n",
       "    <tr>\n",
       "      <th>2</th>\n",
       "      <td>a</td>\n",
       "      <td>5865</td>\n",
       "      <td>0.028913</td>\n",
       "    </tr>\n",
       "    <tr>\n",
       "      <th>3</th>\n",
       "      <td>man</td>\n",
       "      <td>119</td>\n",
       "      <td>0.000587</td>\n",
       "    </tr>\n",
       "    <tr>\n",
       "      <th>4</th>\n",
       "      <td>who</td>\n",
       "      <td>713</td>\n",
       "      <td>0.003515</td>\n",
       "    </tr>\n",
       "  </tbody>\n",
       "</table>\n",
       "</div>"
      ],
      "text/plain": [
       "     words  count      prob\n",
       "0  <sstory      0  0.000000\n",
       "1       of   5142  0.025349\n",
       "2        a   5865  0.028913\n",
       "3      man    119  0.000587\n",
       "4      who    713  0.003515"
      ]
     },
     "execution_count": 22,
     "metadata": {},
     "output_type": "execute_result"
    }
   ],
   "source": [
    "word_list['prob'] = word_list['count']/sum(word_list['count'])\n",
    "word_list.head()"
   ]
  },
  {
   "cell_type": "markdown",
   "metadata": {},
   "source": [
    "### Unigram Model"
   ]
  },
  {
   "cell_type": "code",
   "execution_count": 23,
   "metadata": {},
   "outputs": [
    {
     "name": "stdout",
     "output_type": "stream",
     "text": [
      "Proportion of sentences completed: 1.49 %\n",
      "Total run time =  1.3784999999999998  minutes\n"
     ]
    }
   ],
   "source": [
    "unigram_table = pd.DataFrame()\n",
    "\n",
    "start_time = time.time()\n",
    "# Loop through each sentence\n",
    "# REMOVE ROW LIMIT FOR FULL RUN\n",
    "for index in train_data_sent[0:200].index:\n",
    "    data_row = train_data_sent.iloc[index,:]\n",
    "\n",
    "    sent_probs = pd.DataFrame()\n",
    "    # Go through each word in the sentence, lookup the probability of the word and \n",
    "    # then find the mulitplicitive product of all probabilities in the sentence.\n",
    "    for n,word in enumerate(data_row['sentence_clean']):\n",
    "        sent_probs = sent_probs.append(pd.DataFrame({'prob':word_list[ word_list['words']==word]['prob']}, index = [n]))\n",
    "    unigram = sent_probs['prob'].prod(axis=0)\n",
    "    \n",
    "    # Create a list of unigram calculation for each sentence\n",
    "    unigram_table = unigram_table.append(pd.DataFrame({'unigram':unigram},index = [index]))\n",
    "    \n",
    "    clear_output(wait=True)\n",
    "    print('Proportion of sentences completed:', np.round(index/len(train_data_sent),4)*100,'%')\n",
    "        \n",
    "end_time = time.time()\n",
    "print('Total run time = ', np.round(end_time-start_time,2)/60, ' minutes')\n",
    "\n",
    "train_data_sent['unigram'] = unigram_table['unigram']\n"
   ]
  },
  {
   "cell_type": "code",
   "execution_count": 26,
   "metadata": {},
   "outputs": [
    {
     "name": "stdout",
     "output_type": "stream",
     "text": [
      "The unigram probability of the word \"a\" occuring given the word \"to\" was the previous word is:  0.0007326239\n"
     ]
    }
   ],
   "source": [
    "word_1 = 'to'\n",
    "word_2 = 'a'\n",
    "\n",
    "prob_word_1 = word_list[word_list['words'] == word_1]['prob'].iloc[0]\n",
    "prob_word_2 = word_list[word_list['words'] == word_2]['prob'].iloc[0]\n",
    "\n",
    "unigram_prob = prob_word_1*prob_word_2\n",
    "\n",
    "print('The unigram probability of the word \"a\" occuring given the word \"to\" was the previous word is: ', np.round(unigram_prob,10))"
   ]
  },
  {
   "cell_type": "markdown",
   "metadata": {},
   "source": [
    "## Bigram Model"
   ]
  },
  {
   "cell_type": "code",
   "execution_count": 27,
   "metadata": {},
   "outputs": [
    {
     "name": "stdout",
     "output_type": "stream",
     "text": [
      "The probability of the word \"a\" occuring given the word \"to\" was the previous word is:  0.02237\n"
     ]
    }
   ],
   "source": [
    "\n",
    "\n",
    "word_1 = ' ' + str('to') + ' '\n",
    "word_2 = str('a') + ' '\n",
    "\n",
    "bigram_prob = len(re.findall(word_1 + word_2, text_list)) / len(re.findall(word_1, text_list)) \n",
    "\n",
    "print('The probability of the word \"a\" occuring given the word \"to\" was the previous word is: ', np.round(bigram_prob,5))\n",
    "\n"
   ]
  },
  {
   "cell_type": "code",
   "execution_count": 28,
   "metadata": {},
   "outputs": [
    {
     "name": "stdout",
     "output_type": "stream",
     "text": [
      "The probability of the word \"a\" occuring given the word \"has\" was the previous word is:  0.13462\n"
     ]
    }
   ],
   "source": [
    "word_1 = ' ' + str('has') + ' '\n",
    "word_2 = str('a') + ' '\n",
    "\n",
    "bigram_prob = len(re.findall(word_1 + word_2, text_list)) / len(re.findall(word_1, text_list)) \n",
    "\n",
    "print('The probability of the word \"a\" occuring given the word \"has\" was the previous word is: ', np.round(bigram_prob,5))\n"
   ]
  },
  {
   "cell_type": "code",
   "execution_count": 29,
   "metadata": {},
   "outputs": [
    {
     "name": "stdout",
     "output_type": "stream",
     "text": [
      "Proportion of column words completed: 100.0 %\n",
      "Total run time =  1.7746666666666668  minutes\n"
     ]
    }
   ],
   "source": [
    "W_W_Matrix = pd.DataFrame({'words': word_list['words']})\n",
    "\n",
    "start_time = time.time()\n",
    "\n",
    "\n",
    "# Add limits to number of columns/rows so this doesn't run for ages\n",
    "column_lim = 1000\n",
    "#column_lim = len(W_W_Matrix)\n",
    "row_lim = 10\n",
    "#row_lim = len(W_W_Matrix)\n",
    "\n",
    "for r, column in enumerate(W_W_Matrix['words'][0:column_lim]):\n",
    "    \n",
    "    prob_table = pd.DataFrame()\n",
    "    for i, row in enumerate(W_W_Matrix['words'][0:row_lim]):\n",
    "\n",
    "        word_1 = ' ' + str(row) + ' '\n",
    "        word_2 = str(column) + ' '\n",
    "\n",
    "        if len(re.findall(word_1, text_list)) == 0:\n",
    "            prob = pd.DataFrame({'prob':[0]}, index=[i])\n",
    "        else:\n",
    "            prob = pd.DataFrame({'prob':[len(re.findall(word_1 + word_2, text_list)) / len(re.findall(word_1, text_list)) ]}, index=[i])\n",
    "        \n",
    "        prob_table = prob_table.append(prob)\n",
    "    W_W_Matrix[str(column)] = prob_table['prob']\n",
    "    \n",
    "    # Outputs progress of main loop, see:\n",
    "    clear_output(wait=True)\n",
    "    print('Proportion of column words completed:', np.round(r/len(W_W_Matrix[0:column_lim]),2)*100,'%')\n",
    "    \n",
    "end_time = time.time()\n",
    "print('Total run time = ', np.round(end_time-start_time,2)/60, ' minutes')"
   ]
  },
  {
   "cell_type": "code",
   "execution_count": 30,
   "metadata": {},
   "outputs": [
    {
     "data": {
      "text/html": [
       "<div>\n",
       "<style scoped>\n",
       "    .dataframe tbody tr th:only-of-type {\n",
       "        vertical-align: middle;\n",
       "    }\n",
       "\n",
       "    .dataframe tbody tr th {\n",
       "        vertical-align: top;\n",
       "    }\n",
       "\n",
       "    .dataframe thead th {\n",
       "        text-align: right;\n",
       "    }\n",
       "</style>\n",
       "<table border=\"1\" class=\"dataframe\">\n",
       "  <thead>\n",
       "    <tr style=\"text-align: right;\">\n",
       "      <th></th>\n",
       "      <th>words</th>\n",
       "      <th>&lt;sstory</th>\n",
       "      <th>of</th>\n",
       "      <th>a</th>\n",
       "      <th>man</th>\n",
       "      <th>who</th>\n",
       "      <th>has</th>\n",
       "      <th>unnatural</th>\n",
       "      <th>feelings</th>\n",
       "      <th>for</th>\n",
       "      <th>...</th>\n",
       "      <th>hopefully</th>\n",
       "      <th>effort</th>\n",
       "      <th>produces</th>\n",
       "      <th>results/s&gt;</th>\n",
       "      <th>bad/s&gt;</th>\n",
       "      <th>way</th>\n",
       "      <th>weak</th>\n",
       "      <th>outdated</th>\n",
       "      <th>country/s&gt;</th>\n",
       "      <th>walker</th>\n",
       "    </tr>\n",
       "  </thead>\n",
       "  <tbody>\n",
       "    <tr>\n",
       "      <th>0</th>\n",
       "      <td>&lt;sstory</td>\n",
       "      <td>0.0</td>\n",
       "      <td>0.000000</td>\n",
       "      <td>0.000000</td>\n",
       "      <td>0.00000</td>\n",
       "      <td>0.000000</td>\n",
       "      <td>0.000000</td>\n",
       "      <td>0.000000</td>\n",
       "      <td>0.0</td>\n",
       "      <td>0.000000</td>\n",
       "      <td>...</td>\n",
       "      <td>0.0</td>\n",
       "      <td>0.000000</td>\n",
       "      <td>0.0</td>\n",
       "      <td>0.0</td>\n",
       "      <td>0.0</td>\n",
       "      <td>0.000000</td>\n",
       "      <td>0.000000</td>\n",
       "      <td>0.0</td>\n",
       "      <td>0.0</td>\n",
       "      <td>0.000000</td>\n",
       "    </tr>\n",
       "    <tr>\n",
       "      <th>1</th>\n",
       "      <td>of</td>\n",
       "      <td>0.0</td>\n",
       "      <td>0.000194</td>\n",
       "      <td>0.049592</td>\n",
       "      <td>0.00000</td>\n",
       "      <td>0.000778</td>\n",
       "      <td>0.000000</td>\n",
       "      <td>0.000000</td>\n",
       "      <td>0.0</td>\n",
       "      <td>0.000000</td>\n",
       "      <td>...</td>\n",
       "      <td>0.0</td>\n",
       "      <td>0.000389</td>\n",
       "      <td>0.0</td>\n",
       "      <td>0.0</td>\n",
       "      <td>0.0</td>\n",
       "      <td>0.000583</td>\n",
       "      <td>0.000194</td>\n",
       "      <td>0.0</td>\n",
       "      <td>0.0</td>\n",
       "      <td>0.000000</td>\n",
       "    </tr>\n",
       "    <tr>\n",
       "      <th>2</th>\n",
       "      <td>a</td>\n",
       "      <td>0.0</td>\n",
       "      <td>0.000000</td>\n",
       "      <td>0.000171</td>\n",
       "      <td>0.00324</td>\n",
       "      <td>0.000000</td>\n",
       "      <td>0.000000</td>\n",
       "      <td>0.000000</td>\n",
       "      <td>0.0</td>\n",
       "      <td>0.000171</td>\n",
       "      <td>...</td>\n",
       "      <td>0.0</td>\n",
       "      <td>0.000000</td>\n",
       "      <td>0.0</td>\n",
       "      <td>0.0</td>\n",
       "      <td>0.0</td>\n",
       "      <td>0.001876</td>\n",
       "      <td>0.001364</td>\n",
       "      <td>0.0</td>\n",
       "      <td>0.0</td>\n",
       "      <td>0.000341</td>\n",
       "    </tr>\n",
       "    <tr>\n",
       "      <th>3</th>\n",
       "      <td>man</td>\n",
       "      <td>0.0</td>\n",
       "      <td>0.000000</td>\n",
       "      <td>0.000000</td>\n",
       "      <td>0.00000</td>\n",
       "      <td>0.134454</td>\n",
       "      <td>0.008403</td>\n",
       "      <td>0.000000</td>\n",
       "      <td>0.0</td>\n",
       "      <td>0.000000</td>\n",
       "      <td>...</td>\n",
       "      <td>0.0</td>\n",
       "      <td>0.000000</td>\n",
       "      <td>0.0</td>\n",
       "      <td>0.0</td>\n",
       "      <td>0.0</td>\n",
       "      <td>0.000000</td>\n",
       "      <td>0.000000</td>\n",
       "      <td>0.0</td>\n",
       "      <td>0.0</td>\n",
       "      <td>0.000000</td>\n",
       "    </tr>\n",
       "    <tr>\n",
       "      <th>4</th>\n",
       "      <td>who</td>\n",
       "      <td>0.0</td>\n",
       "      <td>0.000000</td>\n",
       "      <td>0.001403</td>\n",
       "      <td>0.00000</td>\n",
       "      <td>0.000000</td>\n",
       "      <td>0.039271</td>\n",
       "      <td>0.000000</td>\n",
       "      <td>0.0</td>\n",
       "      <td>0.000000</td>\n",
       "      <td>...</td>\n",
       "      <td>0.0</td>\n",
       "      <td>0.000000</td>\n",
       "      <td>0.0</td>\n",
       "      <td>0.0</td>\n",
       "      <td>0.0</td>\n",
       "      <td>0.000000</td>\n",
       "      <td>0.000000</td>\n",
       "      <td>0.0</td>\n",
       "      <td>0.0</td>\n",
       "      <td>0.000000</td>\n",
       "    </tr>\n",
       "    <tr>\n",
       "      <th>5</th>\n",
       "      <td>has</td>\n",
       "      <td>0.0</td>\n",
       "      <td>0.000000</td>\n",
       "      <td>0.134615</td>\n",
       "      <td>0.00000</td>\n",
       "      <td>0.000000</td>\n",
       "      <td>0.000000</td>\n",
       "      <td>0.001923</td>\n",
       "      <td>0.0</td>\n",
       "      <td>0.000000</td>\n",
       "      <td>...</td>\n",
       "      <td>0.0</td>\n",
       "      <td>0.000000</td>\n",
       "      <td>0.0</td>\n",
       "      <td>0.0</td>\n",
       "      <td>0.0</td>\n",
       "      <td>0.000000</td>\n",
       "      <td>0.000000</td>\n",
       "      <td>0.0</td>\n",
       "      <td>0.0</td>\n",
       "      <td>0.000000</td>\n",
       "    </tr>\n",
       "    <tr>\n",
       "      <th>6</th>\n",
       "      <td>unnatural</td>\n",
       "      <td>0.0</td>\n",
       "      <td>0.000000</td>\n",
       "      <td>0.000000</td>\n",
       "      <td>0.00000</td>\n",
       "      <td>0.000000</td>\n",
       "      <td>0.000000</td>\n",
       "      <td>0.000000</td>\n",
       "      <td>0.5</td>\n",
       "      <td>0.000000</td>\n",
       "      <td>...</td>\n",
       "      <td>0.0</td>\n",
       "      <td>0.000000</td>\n",
       "      <td>0.0</td>\n",
       "      <td>0.0</td>\n",
       "      <td>0.0</td>\n",
       "      <td>0.000000</td>\n",
       "      <td>0.000000</td>\n",
       "      <td>0.0</td>\n",
       "      <td>0.0</td>\n",
       "      <td>0.000000</td>\n",
       "    </tr>\n",
       "    <tr>\n",
       "      <th>7</th>\n",
       "      <td>feelings</td>\n",
       "      <td>0.0</td>\n",
       "      <td>0.222222</td>\n",
       "      <td>0.000000</td>\n",
       "      <td>0.00000</td>\n",
       "      <td>0.000000</td>\n",
       "      <td>0.000000</td>\n",
       "      <td>0.000000</td>\n",
       "      <td>0.0</td>\n",
       "      <td>0.444444</td>\n",
       "      <td>...</td>\n",
       "      <td>0.0</td>\n",
       "      <td>0.000000</td>\n",
       "      <td>0.0</td>\n",
       "      <td>0.0</td>\n",
       "      <td>0.0</td>\n",
       "      <td>0.000000</td>\n",
       "      <td>0.000000</td>\n",
       "      <td>0.0</td>\n",
       "      <td>0.0</td>\n",
       "      <td>0.000000</td>\n",
       "    </tr>\n",
       "    <tr>\n",
       "      <th>8</th>\n",
       "      <td>for</td>\n",
       "      <td>0.0</td>\n",
       "      <td>0.000000</td>\n",
       "      <td>0.097826</td>\n",
       "      <td>0.00000</td>\n",
       "      <td>0.000000</td>\n",
       "      <td>0.000000</td>\n",
       "      <td>0.000000</td>\n",
       "      <td>0.0</td>\n",
       "      <td>0.000000</td>\n",
       "      <td>...</td>\n",
       "      <td>0.0</td>\n",
       "      <td>0.000000</td>\n",
       "      <td>0.0</td>\n",
       "      <td>0.0</td>\n",
       "      <td>0.0</td>\n",
       "      <td>0.000000</td>\n",
       "      <td>0.000000</td>\n",
       "      <td>0.0</td>\n",
       "      <td>0.0</td>\n",
       "      <td>0.000000</td>\n",
       "    </tr>\n",
       "    <tr>\n",
       "      <th>9</th>\n",
       "      <td>pig/s&gt;</td>\n",
       "      <td>0.0</td>\n",
       "      <td>0.000000</td>\n",
       "      <td>0.000000</td>\n",
       "      <td>0.00000</td>\n",
       "      <td>0.000000</td>\n",
       "      <td>0.000000</td>\n",
       "      <td>0.000000</td>\n",
       "      <td>0.0</td>\n",
       "      <td>0.000000</td>\n",
       "      <td>...</td>\n",
       "      <td>0.0</td>\n",
       "      <td>0.000000</td>\n",
       "      <td>0.0</td>\n",
       "      <td>0.0</td>\n",
       "      <td>0.0</td>\n",
       "      <td>0.000000</td>\n",
       "      <td>0.000000</td>\n",
       "      <td>0.0</td>\n",
       "      <td>0.0</td>\n",
       "      <td>0.000000</td>\n",
       "    </tr>\n",
       "  </tbody>\n",
       "</table>\n",
       "<p>10 rows × 1001 columns</p>\n",
       "</div>"
      ],
      "text/plain": [
       "       words  <sstory        of         a      man       who       has  \\\n",
       "0    <sstory      0.0  0.000000  0.000000  0.00000  0.000000  0.000000   \n",
       "1         of      0.0  0.000194  0.049592  0.00000  0.000778  0.000000   \n",
       "2          a      0.0  0.000000  0.000171  0.00324  0.000000  0.000000   \n",
       "3        man      0.0  0.000000  0.000000  0.00000  0.134454  0.008403   \n",
       "4        who      0.0  0.000000  0.001403  0.00000  0.000000  0.039271   \n",
       "5        has      0.0  0.000000  0.134615  0.00000  0.000000  0.000000   \n",
       "6  unnatural      0.0  0.000000  0.000000  0.00000  0.000000  0.000000   \n",
       "7   feelings      0.0  0.222222  0.000000  0.00000  0.000000  0.000000   \n",
       "8        for      0.0  0.000000  0.097826  0.00000  0.000000  0.000000   \n",
       "9     pig/s>      0.0  0.000000  0.000000  0.00000  0.000000  0.000000   \n",
       "\n",
       "   unnatural  feelings       for  ...  hopefully    effort  produces  \\\n",
       "0   0.000000       0.0  0.000000  ...        0.0  0.000000       0.0   \n",
       "1   0.000000       0.0  0.000000  ...        0.0  0.000389       0.0   \n",
       "2   0.000000       0.0  0.000171  ...        0.0  0.000000       0.0   \n",
       "3   0.000000       0.0  0.000000  ...        0.0  0.000000       0.0   \n",
       "4   0.000000       0.0  0.000000  ...        0.0  0.000000       0.0   \n",
       "5   0.001923       0.0  0.000000  ...        0.0  0.000000       0.0   \n",
       "6   0.000000       0.5  0.000000  ...        0.0  0.000000       0.0   \n",
       "7   0.000000       0.0  0.444444  ...        0.0  0.000000       0.0   \n",
       "8   0.000000       0.0  0.000000  ...        0.0  0.000000       0.0   \n",
       "9   0.000000       0.0  0.000000  ...        0.0  0.000000       0.0   \n",
       "\n",
       "   results/s>  bad/s>       way      weak  outdated  country/s>    walker  \n",
       "0         0.0     0.0  0.000000  0.000000       0.0         0.0  0.000000  \n",
       "1         0.0     0.0  0.000583  0.000194       0.0         0.0  0.000000  \n",
       "2         0.0     0.0  0.001876  0.001364       0.0         0.0  0.000341  \n",
       "3         0.0     0.0  0.000000  0.000000       0.0         0.0  0.000000  \n",
       "4         0.0     0.0  0.000000  0.000000       0.0         0.0  0.000000  \n",
       "5         0.0     0.0  0.000000  0.000000       0.0         0.0  0.000000  \n",
       "6         0.0     0.0  0.000000  0.000000       0.0         0.0  0.000000  \n",
       "7         0.0     0.0  0.000000  0.000000       0.0         0.0  0.000000  \n",
       "8         0.0     0.0  0.000000  0.000000       0.0         0.0  0.000000  \n",
       "9         0.0     0.0  0.000000  0.000000       0.0         0.0  0.000000  \n",
       "\n",
       "[10 rows x 1001 columns]"
      ]
     },
     "execution_count": 30,
     "metadata": {},
     "output_type": "execute_result"
    }
   ],
   "source": [
    "W_W_Matrix[W_W_Matrix['a'] >= 0]"
   ]
  },
  {
   "cell_type": "markdown",
   "metadata": {},
   "source": [
    "## Trigram"
   ]
  },
  {
   "cell_type": "code",
   "execution_count": 31,
   "metadata": {},
   "outputs": [
    {
     "name": "stdout",
     "output_type": "stream",
     "text": [
      "The probability of the word \" movie \" occuring given the word \" to \" and \" a \" were the previous two words is:  0.011799410029498525\n"
     ]
    }
   ],
   "source": [
    "word_1 = str('to')\n",
    "word_2 = str('a') \n",
    "word_3 = str('movie')\n",
    "\n",
    "trigram_prob = (len(re.findall(' ' + word_1 + ' ' + word_2 + ' ' + word_3 + ' ', text_list)) / \n",
    "                    len(re.findall(' ' + word_1 + ' ' + word_2, text_list)))\n",
    "\n",
    "\n",
    "print('The probability of the word \"',word_3,'\" occuring given the word \"',word_1,'\" and \"',word_2,'\" were the previous two words is: ', (trigram_prob))\n",
    "\n"
   ]
  },
  {
   "cell_type": "code",
   "execution_count": 32,
   "metadata": {},
   "outputs": [
    {
     "name": "stdout",
     "output_type": "stream",
     "text": [
      "The probability of the word \" film \" occuring given the word \" to \" and \" a \" were the previous two words is:  0.0058997050147492625\n"
     ]
    }
   ],
   "source": [
    "word_1 = str('to')\n",
    "word_2 = str('a') \n",
    "word_3 = str('film')\n",
    "\n",
    "trigram_prob = (len(re.findall(' ' + word_1 + ' ' + word_2 + ' ' + word_3 + ' ', text_list)) / \n",
    "                    len(re.findall(' ' + word_1 + ' ' + word_2, text_list)))\n",
    "\n",
    "\n",
    "print('The probability of the word \"',word_3,'\" occuring given the word \"',word_1,'\" and \"',word_2,'\" were the previous two words is: ', (trigram_prob))"
   ]
  },
  {
   "cell_type": "markdown",
   "metadata": {},
   "source": [
    "## Finding Entropy"
   ]
  },
  {
   "cell_type": "code",
   "execution_count": 33,
   "metadata": {},
   "outputs": [],
   "source": [
    "def entropy(sentence, data_prob):\n",
    "    entropy_table = pd.DataFrame()\n",
    "    for n,word in enumerate(sentence.split(' ')):\n",
    "        # log2(0) provide nan so return 0 instead\n",
    "        if ((data_prob[data_prob['words']==word]['prob'].iloc[0]) == 0):\n",
    "            entropy = 0\n",
    "        else:\n",
    "            prob = data_prob[data_prob['words']==word]['prob'].iloc[0]\n",
    "            entropy = prob*np.log2(prob)\n",
    "        entropy_table = entropy_table.append(pd.DataFrame({'word':word,\n",
    "                                                            'entropy':entropy}, index = [n]))\n",
    "    phrase_entropy = -1*sum(entropy_table['entropy'])\n",
    "    return(phrase_entropy)"
   ]
  },
  {
   "cell_type": "code",
   "execution_count": 35,
   "metadata": {},
   "outputs": [
    {
     "name": "stdout",
     "output_type": "stream",
     "text": [
      "Sentence 1 <sstory of a man who has unnatural feelings for a pig/s>\n",
      "--.--.--.--.--.--.--.--\n",
      "Sentence 2 <s starts out with a opening scene that is a terrific example of absurd comedy/s>\n"
     ]
    }
   ],
   "source": [
    "sent_1 = text.iloc[0]\n",
    "sent_2 = text.iloc[1]\n",
    "\n",
    "print('Sentence 1', sent_1)\n",
    "print('--.--.--.--.--.--.--.--')\n",
    "print('Sentence 2', sent_2)"
   ]
  },
  {
   "cell_type": "code",
   "execution_count": 37,
   "metadata": {},
   "outputs": [
    {
     "data": {
      "text/html": [
       "<div>\n",
       "<style scoped>\n",
       "    .dataframe tbody tr th:only-of-type {\n",
       "        vertical-align: middle;\n",
       "    }\n",
       "\n",
       "    .dataframe tbody tr th {\n",
       "        vertical-align: top;\n",
       "    }\n",
       "\n",
       "    .dataframe thead th {\n",
       "        text-align: right;\n",
       "    }\n",
       "</style>\n",
       "<table border=\"1\" class=\"dataframe\">\n",
       "  <thead>\n",
       "    <tr style=\"text-align: right;\">\n",
       "      <th></th>\n",
       "      <th>words</th>\n",
       "      <th>count</th>\n",
       "      <th>prob</th>\n",
       "    </tr>\n",
       "  </thead>\n",
       "  <tbody>\n",
       "    <tr>\n",
       "      <th>0</th>\n",
       "      <td>&lt;sstory</td>\n",
       "      <td>0</td>\n",
       "      <td>0.000000</td>\n",
       "    </tr>\n",
       "    <tr>\n",
       "      <th>1</th>\n",
       "      <td>of</td>\n",
       "      <td>5142</td>\n",
       "      <td>0.025349</td>\n",
       "    </tr>\n",
       "    <tr>\n",
       "      <th>2</th>\n",
       "      <td>a</td>\n",
       "      <td>5865</td>\n",
       "      <td>0.028913</td>\n",
       "    </tr>\n",
       "    <tr>\n",
       "      <th>3</th>\n",
       "      <td>man</td>\n",
       "      <td>119</td>\n",
       "      <td>0.000587</td>\n",
       "    </tr>\n",
       "    <tr>\n",
       "      <th>4</th>\n",
       "      <td>who</td>\n",
       "      <td>713</td>\n",
       "      <td>0.003515</td>\n",
       "    </tr>\n",
       "  </tbody>\n",
       "</table>\n",
       "</div>"
      ],
      "text/plain": [
       "     words  count      prob\n",
       "0  <sstory      0  0.000000\n",
       "1       of   5142  0.025349\n",
       "2        a   5865  0.028913\n",
       "3      man    119  0.000587\n",
       "4      who    713  0.003515"
      ]
     },
     "execution_count": 37,
     "metadata": {},
     "output_type": "execute_result"
    }
   ],
   "source": [
    "data_prob = word_list[['words','count','prob']]\n",
    "data_prob.head()"
   ]
  },
  {
   "cell_type": "code",
   "execution_count": 38,
   "metadata": {},
   "outputs": [
    {
     "name": "stdout",
     "output_type": "stream",
     "text": [
      "Sentence 1:  <sstory of a man who has unnatural feelings for a pig/s>\n",
      "Sentence 1 entropy:  0.54195\n",
      "Per-word Sentence 1 entropy:  0.04927\n",
      "Sentence 2:  <s starts out with a opening scene that is a terrific example of absurd comedy/s>\n",
      "Sentence 2 entropy:  0.71513\n",
      "Per-word Sentence 2 entropy:  0.04768\n"
     ]
    }
   ],
   "source": [
    "sent_1_entropy = entropy(sent_1,data_prob)\n",
    "sent_2_entropy = entropy(sent_2,data_prob)\n",
    "\n",
    "print('Sentence 1: ', sent_1)\n",
    "print('Sentence 1 entropy: ', np.round(sent_1_entropy,5))\n",
    "print('Per-word Sentence 1 entropy: ', np.round(sent_1_entropy/len(sent_1.split(' ')),5))\n",
    "\n",
    "print('Sentence 2: ', sent_2)\n",
    "print('Sentence 2 entropy: ', np.round(sent_2_entropy,5))\n",
    "print('Per-word Sentence 2 entropy: ', np.round(sent_2_entropy/len(sent_2.split(' ')),5))\n"
   ]
  },
  {
   "cell_type": "markdown",
   "metadata": {},
   "source": [
    "### Finding Perplexity"
   ]
  },
  {
   "cell_type": "code",
   "execution_count": 39,
   "metadata": {},
   "outputs": [
    {
     "name": "stdout",
     "output_type": "stream",
     "text": [
      "Sentence 1:  <sstory of a man who has unnatural feelings for a pig/s>\n",
      "Sentence 1 entropy:  0.54195\n",
      "Per-word Sentence 1 entropy:  0.04927\n",
      "Sentence 1 Perplexity:  1.4559422716148382\n",
      "--.--.--.--.--.--.--.--\n",
      "Sentence 2:  <s starts out with a opening scene that is a terrific example of absurd comedy/s>\n",
      "Sentence 2 entropy:  0.71513\n",
      "Per-word Sentence 2 entropy:  0.04768\n",
      "Sentence 2 Perplexity:  1.6416350090277736\n"
     ]
    }
   ],
   "source": [
    "sent_1_perplex = 2**sent_1_entropy\n",
    "sent_2_perplex = 2**sent_2_entropy\n",
    "\n",
    "print('Sentence 1: ', sent_1)\n",
    "print('Sentence 1 entropy: ', np.round(sent_1_entropy,5))\n",
    "print('Per-word Sentence 1 entropy: ', np.round(sent_1_entropy/len(sent_1.split(' ')),5))\n",
    "print('Sentence 1 Perplexity: ', sent_1_perplex)\n",
    "\n",
    "print('--.--.--.--.--.--.--.--')\n",
    "print('Sentence 2: ', sent_2)\n",
    "print('Sentence 2 entropy: ', np.round(sent_2_entropy,5))\n",
    "print('Per-word Sentence 2 entropy: ', np.round(sent_2_entropy/len(sent_2.split(' ')),5))\n",
    "print('Sentence 2 Perplexity: ', sent_2_perplex)"
   ]
  },
  {
   "cell_type": "code",
   "execution_count": 40,
   "metadata": {},
   "outputs": [
    {
     "name": "stdout",
     "output_type": "stream",
     "text": [
      "Sentence 1 Probability:  0.0160477552\n",
      "Sentence 2 Probability:  0.0005899985\n"
     ]
    }
   ],
   "source": [
    "sent_1_prob = (1/sent_1_perplex)**len(sent_1.split(' '))\n",
    "sent_2_prob = (1/sent_2_perplex)**len(sent_2.split(' '))\n",
    "\n",
    "print('Sentence 1 Probability: ', '%0.10f' % sent_1_prob)\n",
    "print('Sentence 2 Probability: ', '%0.10f' % sent_2_prob  )"
   ]
  },
  {
   "cell_type": "code",
   "execution_count": null,
   "metadata": {},
   "outputs": [],
   "source": []
  }
 ],
 "metadata": {
  "kernelspec": {
   "display_name": "Python 3",
   "language": "python",
   "name": "python3"
  },
  "language_info": {
   "codemirror_mode": {
    "name": "ipython",
    "version": 3
   },
   "file_extension": ".py",
   "mimetype": "text/x-python",
   "name": "python",
   "nbconvert_exporter": "python",
   "pygments_lexer": "ipython3",
   "version": "3.7.3"
  }
 },
 "nbformat": 4,
 "nbformat_minor": 2
}
